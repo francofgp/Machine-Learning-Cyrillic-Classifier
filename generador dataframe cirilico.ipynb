{
 "metadata": {
  "language_info": {
   "codemirror_mode": {
    "name": "ipython",
    "version": 3
   },
   "file_extension": ".py",
   "mimetype": "text/x-python",
   "name": "python",
   "nbconvert_exporter": "python",
   "pygments_lexer": "ipython3",
   "version": "3.7.10"
  },
  "orig_nbformat": 2,
  "kernelspec": {
   "name": "python3710jvsc74a57bd043a68c45ba6051e1988e03d62ad04977e06475d4b702447f7d87ba61fe43c158",
   "display_name": "Python 3.7.10 64-bit ('iafrvm': conda)"
  }
 },
 "nbformat": 4,
 "nbformat_minor": 2,
 "cells": [
  {
   "cell_type": "code",
   "execution_count": 1,
   "metadata": {},
   "outputs": [],
   "source": [
    "import pandas as pd\n",
    "df = pd.DataFrame(columns=['letter', 'label', 'file'])\n",
    "\n",
    "for letra in range(1,470):\n",
    "    df = df.append({'letter': \"А\",\"label\":1,\"file\":f\"А ({letra}).png\"}, ignore_index=True)\n",
    "\n",
    "for letra in range(1,445):\n",
    "    df = df.append({'letter': \"Б\",\"label\":2,\"file\":f\"Б ({letra}).png\"}, ignore_index=True)\n",
    "\n",
    "for letra in range(1,488):\n",
    "    df = df.append({'letter': \"В\",\"label\":3,\"file\":f\"В ({letra}).png\"}, ignore_index=True)\n",
    "\n",
    "for letra in range(1,425):\n",
    "    df = df.append({'letter': \"Г\",\"label\":4,\"file\":f\"Г ({letra}).png\"}, ignore_index=True)\n",
    "\n",
    "for letra in range(1,466):\n",
    "    df = df.append({'letter': \"Д\",\"label\":5,\"file\":f\"Д ({letra}).png\"}, ignore_index=True)\n",
    "\n",
    "for letra in range(1,577):\n",
    "    df = df.append({'letter': \"Е\",\"label\":6,\"file\":f\"Е ({letra}).png\"}, ignore_index=True)\n",
    "\n",
    "for letra in range(1,345):\n",
    "    df = df.append({'letter': \"Ё\",\"label\":7,\"file\":f\"Ё ({letra}).png\"}, ignore_index=True)\n",
    "\n",
    "for letra in range(1,463):\n",
    "    df = df.append({'letter': \"Ж\",\"label\":8,\"file\":f\"Ж ({letra}).png\"}, ignore_index=True)\n",
    "\n",
    "for letra in range(1,432):\n",
    "    df = df.append({'letter': \"З\",\"label\":9,\"file\":f\"З ({letra}).png\"}, ignore_index=True)\n",
    "\n",
    "for letra in range(1,448):\n",
    "    df = df.append({'letter': \"И\",\"label\":10,\"file\":f\"И ({letra}).png\"}, ignore_index=True)\n",
    "\n",
    "for letra in range(1,467):\n",
    "    df = df.append({'letter': \"Й\",\"label\":11,\"file\":f\"Й ({letra}).png\"}, ignore_index=True)\n",
    "\n",
    "for letra in range(1,460):\n",
    "    df = df.append({'letter': \"К\",\"label\":12,\"file\":f\"К ({letra}).png\"}, ignore_index=True)\n",
    "\n",
    "for letra in range(1,434):\n",
    "    df = df.append({'letter': \"Л\",\"label\":13,\"file\":f\"Л ({letra}).png\"}, ignore_index=True)\n",
    "\n",
    "for letra in range(1,471):\n",
    "    df = df.append({'letter': \"М\",\"label\":14,\"file\":f\"М ({letra}).png\"}, ignore_index=True)\n",
    "\n",
    "for letra in range(1,509):\n",
    "    df = df.append({'letter': \"Н\",\"label\":15,\"file\":f\"Н ({letra}).png\"}, ignore_index=True)\n",
    "\n",
    "for letra in range(1,466):\n",
    "    df = df.append({'letter': \"О\",\"label\":16,\"file\":f\"О ({letra}).png\"}, ignore_index=True)\n",
    "\n",
    "for letra in range(1,475):\n",
    "    df = df.append({'letter': \"П\",\"label\":17,\"file\":f\"П ({letra}).png\"}, ignore_index=True)\n",
    "\n",
    "for letra in range(1,494):\n",
    "    df = df.append({'letter': \"Р\",\"label\":18,\"file\":f\"Р ({letra}).png\"}, ignore_index=True)\n",
    "    \n",
    "for letra in range(1,514):\n",
    "    df = df.append({'letter': \"С\",\"label\":19,\"file\":f\"С ({letra}).png\"}, ignore_index=True)\n",
    "    \n",
    "for letra in range(1,457):\n",
    "    df = df.append({'letter': \"Т\",\"label\":20,\"file\":f\"Т ({letra}).png\"}, ignore_index=True)\n",
    "\n",
    "for letra in range(1,552):\n",
    "    df = df.append({'letter': \"У\",\"label\":21,\"file\":f\"У ({letra}).png\"}, ignore_index=True)\n",
    "\n",
    "for letra in range(1,463):\n",
    "    df = df.append({'letter': \"Ф\",\"label\":22,\"file\":f\"Ф ({letra}).png\"}, ignore_index=True)\n",
    "\n",
    "for letra in range(1,487):\n",
    "    df = df.append({'letter': \"Х\",\"label\":23,\"file\":f\"Х ({letra}).png\"}, ignore_index=True)\n",
    "\n",
    "for letra in range(1,449):\n",
    "    df = df.append({'letter': \"Ц\",\"label\":24,\"file\":f\"Ц ({letra}).png\"}, ignore_index=True)\n",
    "\n",
    "for letra in range(1,465):\n",
    "    df = df.append({'letter': \"Ч\",\"label\":25,\"file\":f\"Ч ({letra}).png\"}, ignore_index=True)\n",
    "\n",
    "for letra in range(1,432):\n",
    "    df = df.append({'letter': \"Ш\",\"label\":26,\"file\":f\"Ш ({letra}).png\"}, ignore_index=True)\n",
    "\n",
    "for letra in range(1,447):\n",
    "    df = df.append({'letter': \"Щ\",\"label\":27,\"file\":f\"Щ ({letra}).png\"}, ignore_index=True)\n",
    "\n",
    "for letra in range(1,460):\n",
    "    df = df.append({'letter': \"Ъ\",\"label\":28,\"file\":f\"Ъ ({letra}).png\"}, ignore_index=True)\n",
    "\n",
    "for letra in range(1,416):\n",
    "    df = df.append({'letter': \"Ы\",\"label\":29,\"file\":f\"Ы ({letra}).png\"}, ignore_index=True)\n",
    "\n",
    "for letra in range(1,428):\n",
    "    df = df.append({'letter': \"Ь\",\"label\":30,\"file\":f\"Ь ({letra}).png\"}, ignore_index=True)\n",
    "\n",
    "for letra in range(1,459):\n",
    "    df = df.append({'letter': \"Э\",\"label\":31,\"file\":f\"Э ({letra}).png\"}, ignore_index=True)\n",
    "\n",
    "for letra in range(1,462):\n",
    "    df = df.append({'letter': \"Ю\",\"label\":32,\"file\":f\"Ю ({letra}).png\"}, ignore_index=True)\n",
    "\n",
    "for letra in range(1,439):\n",
    "    df = df.append({'letter': \"Я\",\"label\":33,\"file\":f\"Я ({letra}).png\"}, ignore_index=True)"
   ]
  },
  {
   "cell_type": "code",
   "execution_count": 2,
   "metadata": {},
   "outputs": [
    {
     "output_type": "execute_result",
     "data": {
      "text/plain": [
       "      letter label         file\n",
       "0          А     1    А (1).png\n",
       "1          А     1    А (2).png\n",
       "2          А     1    А (3).png\n",
       "3          А     1    А (4).png\n",
       "4          А     1    А (5).png\n",
       "...      ...   ...          ...\n",
       "15227      Я    33  Я (434).png\n",
       "15228      Я    33  Я (435).png\n",
       "15229      Я    33  Я (436).png\n",
       "15230      Я    33  Я (437).png\n",
       "15231      Я    33  Я (438).png\n",
       "\n",
       "[15232 rows x 3 columns]"
      ],
      "text/html": "<div>\n<style scoped>\n    .dataframe tbody tr th:only-of-type {\n        vertical-align: middle;\n    }\n\n    .dataframe tbody tr th {\n        vertical-align: top;\n    }\n\n    .dataframe thead th {\n        text-align: right;\n    }\n</style>\n<table border=\"1\" class=\"dataframe\">\n  <thead>\n    <tr style=\"text-align: right;\">\n      <th></th>\n      <th>letter</th>\n      <th>label</th>\n      <th>file</th>\n    </tr>\n  </thead>\n  <tbody>\n    <tr>\n      <th>0</th>\n      <td>А</td>\n      <td>1</td>\n      <td>А (1).png</td>\n    </tr>\n    <tr>\n      <th>1</th>\n      <td>А</td>\n      <td>1</td>\n      <td>А (2).png</td>\n    </tr>\n    <tr>\n      <th>2</th>\n      <td>А</td>\n      <td>1</td>\n      <td>А (3).png</td>\n    </tr>\n    <tr>\n      <th>3</th>\n      <td>А</td>\n      <td>1</td>\n      <td>А (4).png</td>\n    </tr>\n    <tr>\n      <th>4</th>\n      <td>А</td>\n      <td>1</td>\n      <td>А (5).png</td>\n    </tr>\n    <tr>\n      <th>...</th>\n      <td>...</td>\n      <td>...</td>\n      <td>...</td>\n    </tr>\n    <tr>\n      <th>15227</th>\n      <td>Я</td>\n      <td>33</td>\n      <td>Я (434).png</td>\n    </tr>\n    <tr>\n      <th>15228</th>\n      <td>Я</td>\n      <td>33</td>\n      <td>Я (435).png</td>\n    </tr>\n    <tr>\n      <th>15229</th>\n      <td>Я</td>\n      <td>33</td>\n      <td>Я (436).png</td>\n    </tr>\n    <tr>\n      <th>15230</th>\n      <td>Я</td>\n      <td>33</td>\n      <td>Я (437).png</td>\n    </tr>\n    <tr>\n      <th>15231</th>\n      <td>Я</td>\n      <td>33</td>\n      <td>Я (438).png</td>\n    </tr>\n  </tbody>\n</table>\n<p>15232 rows × 3 columns</p>\n</div>"
     },
     "metadata": {},
     "execution_count": 2
    }
   ],
   "source": [
    "df"
   ]
  },
  {
   "cell_type": "code",
   "execution_count": 3,
   "metadata": {},
   "outputs": [],
   "source": [
    "indice=df.index[-1]"
   ]
  },
  {
   "cell_type": "code",
   "execution_count": 4,
   "metadata": {},
   "outputs": [],
   "source": [
    "df.to_csv('dataset/Cyrillic/cyrillic.csv', index = False, header=True)\n",
    "dataset=pd.read_csv(\"dataset/Cyrillic/cyrillic.csv\")"
   ]
  }
 ]
}